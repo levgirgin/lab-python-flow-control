{
 "cells": [
  {
   "cell_type": "markdown",
   "id": "d3bfc191-8885-42ee-b0a0-bbab867c6f9f",
   "metadata": {
    "tags": []
   },
   "source": [
    "# Lab | Flow Control"
   ]
  },
  {
   "cell_type": "markdown",
   "id": "3851fcd1-cf98-4653-9c89-e003b7ec9400",
   "metadata": {},
   "source": [
    "## Exercise: Managing Customer Orders Optimized\n",
    "\n",
    "In the last lab, you were starting an online store that sells various products. To ensure smooth operations, you developed a program that manages customer orders and inventory.\n",
    "\n",
    "You did so without using flow control. Let's go a step further and improve this code.\n",
    "\n",
    "Follow the steps below to complete the exercise:\n",
    "\n",
    "1. Look at your code from the lab data structures, and improve repeated code with loops.\n",
    "\n",
    "2. Instead of asking the user to input the name of three products that a customer wants to order, do the following:\n",
    "    \n",
    "    a. Prompt the user to enter the name of a product that a customer wants to order.\n",
    "    \n",
    "    b. Add the product name to the \"customer_orders\" set.\n",
    "    \n",
    "    c. Ask the user if they want to add another product (yes/no).\n",
    "    \n",
    "    d. Continue the loop until the user does not want to add another product.\n",
    "\n",
    "3. Instead of updating the inventory by subtracting 1 from the quantity of each product, only do it for  the products that were ordered (those in \"customer_orders\")."
   ]
  },
  {
   "cell_type": "code",
   "execution_count": 1,
   "id": "f9ee3996",
   "metadata": {},
   "outputs": [
    {
     "name": "stdout",
     "output_type": "stream",
     "text": [
      "{'t-shirt': 5, 'mug': 6, 'hat': 4, 'book': 7, 'keychain': 3}\n",
      "Please enter 3 products from the list to order: t-shirt, mug, hat, book, keychain\n",
      "Invalid product. Please choose from the list.\n",
      "Invalid product. Please choose from the list.\n",
      "New orders are as follows: \n",
      "book\n",
      "keychain\n",
      "hat\n",
      "Order Statistics:\n",
      "Total Products Ordered: 3\n",
      "Percentage of Products Ordered: 60.0 %\n",
      "Updated Inventory:\n",
      "t-shirt: 5\n",
      "mug: 6\n",
      "hat: 3\n",
      "book: 6\n",
      "keychain: 2\n"
     ]
    }
   ],
   "source": [
    "# Define a list\n",
    "products = [\"t-shirt\", \"mug\", \"hat\", \"book\", \"keychain\"]\n",
    "# Create empty dictionary\n",
    "inventory = {}\n",
    "# Ask for input for each product\n",
    "for product in products:\n",
    "    quantity = int(input(f\"Enter quantity for {product}: \"))\n",
    "    inventory[product] = quantity\n",
    "\n",
    "print(inventory)\n",
    "# Empty set \n",
    "customer_orders = set()\n",
    "\n",
    "# Three products orders from the customer\n",
    "print(\"Please enter 3 products from the list to order: t-shirt, mug, hat, book, keychain\")\n",
    "for i in range(3):\n",
    "    order = input(f\"Enter product {i + 1}: \").strip().lower() # i+1 to make it start from 1 instead of 0 index\n",
    "    while order not in products:\n",
    "        print(\"Invalid product. Please choose from the list.\")\n",
    "        order = input(f\"Enter product {i + 1} again: \").strip().lower()\n",
    "    customer_orders.add(order)\n",
    "\n",
    "\n",
    "#order_1 = input(\"Enter product 1: \").strip().lower()\n",
    "#order_2 = input(\"Enter product 2: \").strip().lower()\n",
    "#order_3 = input(\"Enter product 3: \").strip().lower()\n",
    "\n",
    "# validation\n",
    "#if order_1 in products: \n",
    "#    customer_orders.add(order_1)\n",
    "#if order_2 in products:\n",
    "#    customer_orders.add(order_2)\n",
    "#if order_3 in products:\n",
    "#    customer_orders.add(order_3)\n",
    "\n",
    "# Print orders\n",
    "print(f\"New orders are as follows: \")\n",
    "for item in customer_orders:\n",
    "    print(item)\n",
    "\n",
    "# Calculate order statistics\n",
    "total_products_ordered = len(customer_orders)\n",
    "percentage_ordered = (total_products_ordered / len(products)) * 100\n",
    "order_status= (total_products_ordered, percentage_ordered)\n",
    "\n",
    "# Print statistics\n",
    "print(\"Order Statistics:\")\n",
    "print(f\"Total Products Ordered: {order_status[0]}\")\n",
    "print(f\"Percentage of Products Ordered: {order_status[1]} %\")\n",
    "\n",
    "#Update inventory\n",
    "\n",
    "for item in customer_orders:\n",
    "    if inventory[item] > 0:\n",
    "        inventory[item] -= 1\n",
    "        \n",
    "#if \"t-shirt\" in customer_orders and inventory[\"t-shirt\"] > 0:\n",
    "#    inventory[\"t-shirt\"] -= 1\n",
    "#if \"mug\" in customer_orders and inventory[\"mug\"] > 0:\n",
    "#    inventory[\"mug\"] -= 1\n",
    "#if \"hat\" in customer_orders and inventory[\"hat\"] > 0:\n",
    "#    inventory[\"hat\"] -= 1\n",
    "#if \"book\" in customer_orders and inventory[\"book\"] > 0:\n",
    "#    inventory[\"book\"] -= 1\n",
    "#if \"keychain\" in customer_orders and inventory[\"keychain\"] > 0:\n",
    "#    inventory[\"keychain\"] -= 1\n",
    "\n",
    "# Print inventory \n",
    "print(\"Updated Inventory:\")\n",
    "for product, quantity in inventory.items():\n",
    "    print(f\"{product}: {quantity}\")\n",
    "\n",
    "\n",
    "#print(f\"Amount of t-shirts in the inventory: {inventory['t-shirt']}\")\n",
    "#print(f\"Amount of mugs in the inventory: {inventory['mug']}\")\n",
    "#print(f\"Amount of hats in the inventory: {inventory['hat']}\")\n",
    "#print(f\"Amount of books in the inventory: {inventory['book']}\")\n",
    "#print(f\"Amount of keychains in the inventory: {inventory['keychain']}\")"
   ]
  },
  {
   "cell_type": "code",
   "execution_count": null,
   "id": "c5d7ff27",
   "metadata": {},
   "outputs": [],
   "source": [
    "\n",
    "\n"
   ]
  }
 ],
 "metadata": {
  "kernelspec": {
   "display_name": "base",
   "language": "python",
   "name": "python3"
  },
  "language_info": {
   "codemirror_mode": {
    "name": "ipython",
    "version": 3
   },
   "file_extension": ".py",
   "mimetype": "text/x-python",
   "name": "python",
   "nbconvert_exporter": "python",
   "pygments_lexer": "ipython3",
   "version": "3.11.7"
  }
 },
 "nbformat": 4,
 "nbformat_minor": 5
}
